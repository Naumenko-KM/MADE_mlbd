{
  "cells": [
    {
      "cell_type": "markdown",
      "metadata": {
        "id": "qq87fzlNWVUx"
      },
      "source": [
        "--------------------------------------------\n",
        "## Main"
      ]
    },
    {
      "cell_type": "code",
      "source": [
        "!pip install pyspark"
      ],
      "metadata": {
        "colab": {
          "base_uri": "https://localhost:8080/"
        },
        "id": "XO5a9ekJWaIV",
        "outputId": "559d9c9a-adaa-4a61-f6b0-e5acca38269b"
      },
      "execution_count": 1,
      "outputs": [
        {
          "output_type": "stream",
          "name": "stdout",
          "text": [
            "Looking in indexes: https://pypi.org/simple, https://us-python.pkg.dev/colab-wheels/public/simple/\n",
            "Requirement already satisfied: pyspark in /usr/local/lib/python3.8/dist-packages (3.3.1)\n",
            "Requirement already satisfied: py4j==0.10.9.5 in /usr/local/lib/python3.8/dist-packages (from pyspark) (0.10.9.5)\n"
          ]
        }
      ]
    },
    {
      "cell_type": "code",
      "execution_count": 2,
      "metadata": {
        "colab": {
          "base_uri": "https://localhost:8080/"
        },
        "id": "tATh3D16WVUx",
        "outputId": "4d9ab1ec-d5e0-460a-db1e-6e0721032a4c"
      },
      "outputs": [
        {
          "output_type": "stream",
          "name": "stderr",
          "text": [
            "WARNING:root:'PYARROW_IGNORE_TIMEZONE' environment variable was not set. It is required to set this environment variable to '1' in both driver and executor sides if you use pyarrow>=2.0.0. pandas-on-Spark will set it for you but it does not work if there is a Spark context already launched.\n"
          ]
        },
        {
          "output_type": "stream",
          "name": "stdout",
          "text": [
            "Drive already mounted at /content/drive; to attempt to forcibly remount, call drive.mount(\"/content/drive\", force_remount=True).\n"
          ]
        }
      ],
      "source": [
        "import pandas as pd\n",
        "from pyspark.sql import SparkSession\n",
        "# import findspark\n",
        "import pyspark\n",
        "import random\n",
        "import pyspark.pandas as ps\n",
        "from pyspark.ml import Pipeline\n",
        "from pyspark.ml.feature import HashingTF, IDF, Word2Vec, RegexTokenizer\n",
        "from pyspark.ml.classification import LogisticRegression\n",
        "from pyspark.ml.evaluation import MulticlassClassificationEvaluator\n",
        "import seaborn as sns\n",
        "from tqdm import tqdm\n",
        "\n",
        "from google.colab import drive\n",
        "drive.mount('/content/drive')\n",
        "\n",
        "\n"
      ]
    },
    {
      "cell_type": "code",
      "execution_count": 3,
      "metadata": {
        "colab": {
          "base_uri": "https://localhost:8080/"
        },
        "id": "JFxkl5nUWVUy",
        "outputId": "07f2ccd9-660a-4cbe-eff7-353f7a271ff9"
      },
      "outputs": [
        {
          "output_type": "stream",
          "name": "stdout",
          "text": [
            "spark: 3.3.1\n"
          ]
        }
      ],
      "source": [
        "print('spark:', pyspark.__version__)\n",
        "sns.set_style(\"darkgrid\")\n",
        "spark = SparkSession \\\n",
        "    .builder \\\n",
        "    .appName(\"hw4\") \\\n",
        "    .getOrCreate()\n",
        "\n",
        "spark.sparkContext.setLogLevel('ERROR')"
      ]
    },
    {
      "cell_type": "code",
      "execution_count": 4,
      "metadata": {
        "colab": {
          "base_uri": "https://localhost:8080/"
        },
        "id": "Kxl2vCwFWVUy",
        "outputId": "7e085944-3ada-41cd-e55b-ad324733df41"
      },
      "outputs": [
        {
          "output_type": "stream",
          "name": "stdout",
          "text": [
            "+----------------+--------------------+-----+\n",
            "|              id|        comment_text|toxic|\n",
            "+----------------+--------------------+-----+\n",
            "|0000997932d777bf|Explanation\\nWhy ...|    0|\n",
            "|000103f0d9cfb60f|D'aww! He matches...|    0|\n",
            "|000113f07ec002fd|Hey man, I'm real...|    0|\n",
            "|0001b41b1c6bb37e|\"\\nMore\\nI can't ...|    0|\n",
            "|0001d958c54c6e35|You, sir, are my ...|    0|\n",
            "|00025465d4725e87|\"\\n\\nCongratulati...|    0|\n",
            "|0002bcb3da6cb337|COCKSUCKER BEFORE...|    1|\n",
            "|00031b1e95af7921|Your vandalism to...|    0|\n",
            "|00037261f536c51d|Sorry if the word...|    0|\n",
            "|00040093b2687caa|alignment on this...|    0|\n",
            "|0005300084f90edc|\"\\nFair use ratio...|    0|\n",
            "|00054a5e18b50dd4|bbq \\n\\nbe a man ...|    0|\n",
            "|0005c987bdfc9d4b|Hey... what is it...|    1|\n",
            "|0006f16e4e9f292e|Before you start ...|    0|\n",
            "|00070ef96486d6f9|Oh, and the girl ...|    0|\n",
            "|00078f8ce7eb276d|\"\\n\\nJuelz Santan...|    0|\n",
            "|0007e25b2121310b|Bye! \\n\\nDon't lo...|    1|\n",
            "|000897889268bc93|REDIRECT Talk:Voy...|    0|\n",
            "|0009801bd85e5806|The Mitsurugi poi...|    0|\n",
            "|0009eaea3325de8c|Don't mean to bot...|    0|\n",
            "+----------------+--------------------+-----+\n",
            "only showing top 20 rows\n",
            "\n"
          ]
        }
      ],
      "source": [
        "PATH = 'drive/MyDrive/MADE/dataset/train.csv'\n",
        "df = spark.read.csv(PATH, header=True, multiLine=True, inferSchema=True, escape='\"', sep=',', encoding = \"utf8\")\n",
        "df = df[['id', 'comment_text', 'toxic']]\n",
        "\n",
        "df_train, df_val = df.randomSplit([0.8, 0.2], seed=42)\n",
        "df.show()"
      ]
    },
    {
      "cell_type": "markdown",
      "source": [
        "## Анализ данных\n",
        "Данные содержат много специальных символов, которые необходимо удалить для корректной работы модели W2V.\n",
        "\n",
        "Можно заметить, что в данных большой перевес одного класса, примерно 10:1. В данной работе бороться с этим не будем, так как цель работы познакомиться с фреймворком, а не добиться отличного качества метрики."
      ],
      "metadata": {
        "id": "GYwd5Oy8Yi6i"
      }
    },
    {
      "cell_type": "markdown",
      "source": [
        "##TF-IDF approach"
      ],
      "metadata": {
        "id": "qkxnDBmLPkv5"
      }
    },
    {
      "cell_type": "code",
      "source": [
        "def train_tfidf_model(df_train, df_val, num_features):\n",
        "    tokenizer = RegexTokenizer(inputCol=\"comment_text\", outputCol=\"words\", pattern=\"\\\\W\")\n",
        "    hashing_tf = HashingTF(inputCol=\"words\", outputCol=\"tf\", numFeatures=num_features)\n",
        "    idf = IDF(inputCol=\"tf\", outputCol=\"features\")\n",
        "    lr = LogisticRegression(featuresCol='features', labelCol='toxic', regParam=0.3)\n",
        "    pipeline = Pipeline(stages=[tokenizer, hashing_tf, idf, lr])\n",
        "    evaluator = MulticlassClassificationEvaluator(labelCol=\"toxic\", predictionCol=\"prediction\", metricName='f1')\n",
        "\n",
        "    model = pipeline.fit(df_train)\n",
        "    df_val = model.transform(df_val)\n",
        "    f1 = evaluator.evaluate(df_val)\n",
        "    return round(f1, 5)\n"
      ],
      "metadata": {
        "id": "BKsW3zxIwHbA"
      },
      "execution_count": 5,
      "outputs": []
    },
    {
      "cell_type": "code",
      "source": [
        "metrics = []\n",
        "features = [5, 10, 20, 100, 500, 1000, 2000, 5000]\n",
        "for i in tqdm(features):\n",
        "    f1 = train_tfidf_model(df_train, df_val, i)\n",
        "    metrics.append(f1)\n",
        "\n",
        "sns.scatterplot(x=features, y=metrics);"
      ],
      "metadata": {
        "colab": {
          "base_uri": "https://localhost:8080/",
          "height": 282
        },
        "id": "fxAfyjPI2Y3H",
        "outputId": "5be305e8-0c31-4918-952a-20f7b7e7719a"
      },
      "execution_count": 6,
      "outputs": [
        {
          "output_type": "stream",
          "name": "stderr",
          "text": [
            "100%|██████████| 8/8 [06:23<00:00, 47.91s/it]\n"
          ]
        },
        {
          "output_type": "display_data",
          "data": {
            "text/plain": [
              "<Figure size 432x288 with 1 Axes>"
            ],
            "image/png": "[encoded data removed]"
          },
          "metadata": {}
        }
      ]
    },
    {
      "cell_type": "markdown",
      "source": [
        "####Вывод\n",
        "Параметр numFeatures в HashingTF слабо влияет на качество f1 метрики.\n",
        "\n",
        "С повышением параметра имеется прирост порядка сотых единиц (0.860 и 0.862, при параметрах 5 и 5000), что, конечно тоже можно использовать для оптимизации.\n",
        "\n",
        "\n"
      ],
      "metadata": {
        "id": "uuEtn9QmVh2x"
      }
    },
    {
      "cell_type": "markdown",
      "source": [
        "##W2V approach"
      ],
      "metadata": {
        "id": "lqi0R5_b-rHr"
      }
    },
    {
      "cell_type": "code",
      "source": [
        "def train_w2v_model(df_train, df_val, vector_size):\n",
        "    tokenizer = RegexTokenizer(inputCol=\"comment_text\", outputCol=\"words\", pattern=\"\\\\W\")\n",
        "    w2v = Word2Vec(vectorSize=vector_size, minCount=0, inputCol=\"words\", outputCol=\"features\")\n",
        "    lr = LogisticRegression(featuresCol='features', labelCol='toxic', regParam=0.3)\n",
        "    pipeline = Pipeline(stages=[tokenizer, w2v, lr])\n",
        "    evaluator = MulticlassClassificationEvaluator(labelCol=\"toxic\", predictionCol=\"prediction\", metricName='f1')\n",
        "\n",
        "    model = pipeline.fit(df_train)\n",
        "    df_val = model.transform(df_val)\n",
        "    f1 = evaluator.evaluate(df_val)\n",
        "    return round(f1, 5)"
      ],
      "metadata": {
        "id": "KIqP6aoPMM9n"
      },
      "execution_count": 7,
      "outputs": []
    },
    {
      "cell_type": "code",
      "source": [
        "metrics = []\n",
        "features = [1, 2, 3, 5, 10]\n",
        "for i in tqdm(features):\n",
        "    f1 = train_w2v_model(df_train, df_val, i)\n",
        "    metrics.append(f1)\n",
        "\n",
        "sns.scatterplot(x=features, y=metrics);"
      ],
      "metadata": {
        "colab": {
          "base_uri": "https://localhost:8080/",
          "height": 282
        },
        "id": "LPlKUiUF8wp3",
        "outputId": "146658da-2d56-440b-c687-124c00f6ce1d"
      },
      "execution_count": 8,
      "outputs": [
        {
          "output_type": "stream",
          "name": "stderr",
          "text": [
            "100%|██████████| 5/5 [29:47<00:00, 357.42s/it]\n"
          ]
        },
        {
          "output_type": "display_data",
          "data": {
            "text/plain": [
              "<Figure size 432x288 with 1 Axes>"
            ],
            "image/png": "[encoded data removed]"
          },
          "metadata": {}
        }
      ]
    },
    {
      "cell_type": "markdown",
      "source": [
        "####Вывод\n",
        "Параметр vectorSize в W2V сильно влияет на качество метрики f1.\n",
        "\n",
        "С повышением параметра имеется прирост порядка десятых единиц (0.86 и 0.88, при параметрах 1 и 10).\n",
        "\n",
        "Из-за большой длительности обучения дальнейшая оптимизация не проводилась.\n"
      ],
      "metadata": {
        "id": "5ON8RDp3WwzJ"
      }
    },
    {
      "cell_type": "markdown",
      "source": [
        "##Вывод по работе\n",
        "В данной работе решалась задача классификации [комментариев](https://www.kaggle.com/competitions/jigsaw-toxic-comment-classiﬁcation-challenge/data) с помощью фреймворка spark. Оценивалась метрика f1.\n",
        "\n",
        "Проанализированы 2 подхода:\n",
        "- TF-IDF \n",
        "- WORD2VEC (оптимизировался параметр vectorSize)\n",
        "\n",
        "В подходе TF-IDF оптимизировался параметр numFeatures, лучшая метрика **0.863**\n",
        "\n",
        "В подходе WORD2VEC оптимизировался параметр vectorSize, лучшая метрика **0.880**\n",
        "\n",
        "В итоге оба подхода дали сравнимые результаты, TF-IDF работает быстрее, но проигрывает по качеству перед WORD2VEC.\n",
        "\n",
        "\n",
        "\n"
      ],
      "metadata": {
        "id": "XBd-7mUFW2YI"
      }
    },
    {
      "cell_type": "code",
      "source": [],
      "metadata": {
        "id": "OTSKt2QAWzMH"
      },
      "execution_count": null,
      "outputs": []
    }
  ],
  "metadata": {
    "kernelspec": {
      "display_name": "Python 3 (ipykernel)",
      "language": "python",
      "name": "python3"
    },
    "language_info": {
      "codemirror_mode": {
        "name": "ipython",
        "version": 3
      },
      "file_extension": ".py",
      "mimetype": "text/x-python",
      "name": "python",
      "nbconvert_exporter": "python",
      "pygments_lexer": "ipython3",
      "version": "3.9.6"
    },
    "vscode": {
      "interpreter": {
        "hash": "eea2172cdeeb432cf620a40a81f0a94d801c9e56276e38b7c16d6386751aaaf1"
      }
    },
    "colab": {
      "provenance": []
    }
  },
  "nbformat": 4,
  "nbformat_minor": 0
}